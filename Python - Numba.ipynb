{
 "cells": [
  {
   "attachments": {
    "numba.png": {
     "image/png": "[encoded data removed]"
    }
   },
   "cell_type": "markdown",
   "metadata": {},
   "source": [
    "# Numba\n",
    "\n",
    "![numba.png](attachment:numba.png)\n",
    "\n",
    "[Numba](https://numba.pydata.org) is an open source JIT (Just-In-Time) compiler that translates a subset of Python and NumPy code into fast machine code, using the [LLVM](https://llvm.org) compiler.\n",
    "\n",
    "Lets optimize the Python dot-product using Numba. To this end we simply add a decorator, asking Numba to create machine code and compile it. Note that I'm in a fresh numba environment, because I did not manage to install Numba (or llmv) in the same environment as the Fortran compiler."
   ]
  },
  {
   "cell_type": "code",
   "execution_count": null,
   "metadata": {},
   "outputs": [],
   "source": [
    "import numba as nb\n",
    "import numpy as np\n",
    "N = 10000000\n",
    "u = np.random.random(N)\n",
    "v = np.random.random(N)\n",
    "\n",
    "@nb.jit(nopython=True, fastmath=True, cache=True, parallel=True)  # <- decorator function\n",
    "def nbdot(a, b):\n",
    "    c = 0.0\n",
    "    N = a.shape[0]\n",
    "    for i in nb.prange(N):\n",
    "        c += a[i]*b[i]\n",
    "    return c"
   ]
  },
  {
   "cell_type": "markdown",
   "metadata": {},
   "source": [
    "Run it once first to generate the code and compile"
   ]
  },
  {
   "cell_type": "code",
   "execution_count": null,
   "metadata": {},
   "outputs": [],
   "source": [
    "c = nbdot(u, v) "
   ]
  },
  {
   "cell_type": "code",
   "execution_count": null,
   "metadata": {},
   "outputs": [],
   "source": [
    "%timeit c = nbdot(u, v)"
   ]
  },
  {
   "attachments": {
    "cython.jpeg": {
     "image/jpeg": "[encoded data removed]"
    }
   },
   "cell_type": "markdown",
   "metadata": {},
   "source": [
    "# Cython\n",
    "\n",
    "![cython.jpeg](attachment:cython.jpeg)\n",
    "\n",
    "Cython is an optimising static compiler for both the Python programming language and the extended Cython programming language. It is similar to Python, but with strong typing, and it has to be compiled."
   ]
  },
  {
   "cell_type": "code",
   "execution_count": null,
   "metadata": {},
   "outputs": [],
   "source": [
    "%load_ext Cython"
   ]
  },
  {
   "cell_type": "code",
   "execution_count": null,
   "metadata": {},
   "outputs": [],
   "source": [
    "%%cython\n",
    "cimport cython \n",
    "\n",
    "@cython.boundscheck(False)\n",
    "@cython.wraparound(False)\n",
    "def cydot(double[::1] a, double[::1] b):\n",
    "    cdef:\n",
    "        double c = 0.0\n",
    "        int i, N = a.shape[0]\n",
    "    for i in range(N):\n",
    "        c = c + a[i]*b[i]\n",
    "    return c"
   ]
  },
  {
   "cell_type": "code",
   "execution_count": null,
   "metadata": {},
   "outputs": [],
   "source": [
    "%timeit c = cydot(u, v)"
   ]
  },
  {
   "cell_type": "code",
   "execution_count": null,
   "metadata": {},
   "outputs": [],
   "source": []
  }
 ],
 "metadata": {
  "kernelspec": {
   "display_name": "numba",
   "language": "python",
   "name": "numba"
  },
  "language_info": {
   "codemirror_mode": {
    "name": "ipython",
    "version": 3
   },
   "file_extension": ".py",
   "mimetype": "text/x-python",
   "name": "python",
   "nbconvert_exporter": "python",
   "pygments_lexer": "ipython3",
   "version": "3.7.4"
  },
  "toc": {
   "base_numbering": 1,
   "nav_menu": {},
   "number_sections": false,
   "sideBar": true,
   "skip_h1_title": false,
   "title_cell": "Table of Contents",
   "title_sidebar": "Contents",
   "toc_cell": false,
   "toc_position": {},
   "toc_section_display": true,
   "toc_window_display": false
  }
 },
 "nbformat": 4,
 "nbformat_minor": 2
}
