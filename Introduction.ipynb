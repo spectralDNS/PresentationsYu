{
 "cells": [
  {
   "cell_type": "markdown",
   "metadata": {},
   "source": [
    "# Introduction\n",
    "\n",
    "A little bit about myself:\n",
    "\n",
    "- PhD (2005) in turbulent combustion from Chalmers University of Technology, Sweden\n",
    "- Post Doc (2006) at Sydney University\n",
    "- Research scientist (2006-2012) at the Norwegian Defence Research Establishment\n",
    "- Associate Professor at the University of Oslo (2012-2019)\n",
    "- Full Professor at UiO since 2019"
   ]
  },
  {
   "cell_type": "markdown",
   "metadata": {},
   "source": [
    "## Main interests\n",
    "\n",
    "- Computational Fluid Dynamics\n",
    "- Turbulence and turbulence modelling\n",
    "- Scientific computing\n",
    "- High-performance computing\n",
    "- The spectral Galerkin method"
   ]
  },
  {
   "cell_type": "markdown",
   "metadata": {},
   "source": [
    "## Outline of talk\n",
    "\n",
    "- Python for scientific computing\n",
    "- MPI for Python\n",
    "- Shenfun for high-performance computing "
   ]
  },
  {
   "cell_type": "markdown",
   "metadata": {},
   "source": [
    "This document is written in Jupyter. It is a live document, where I can enter and execute code. Such documents are used heavily in teaching at the University of Oslo, and they invite an interactive session. Please help me make this interesting by raising your hand and asking questions along the way:-) Perhaps if you want to rerun a calculation with different parameters?"
   ]
  },
  {
   "cell_type": "code",
   "execution_count": null,
   "metadata": {},
   "outputs": [],
   "source": [
    "1+1"
   ]
  },
  {
   "cell_type": "code",
   "execution_count": null,
   "metadata": {},
   "outputs": [],
   "source": []
  }
 ],
 "metadata": {
  "kernelspec": {
   "display_name": "fortran",
   "language": "python",
   "name": "fortran"
  },
  "language_info": {
   "codemirror_mode": {
    "name": "ipython",
    "version": 3
   },
   "file_extension": ".py",
   "mimetype": "text/x-python",
   "name": "python",
   "nbconvert_exporter": "python",
   "pygments_lexer": "ipython3",
   "version": "3.10.0"
  },
  "toc": {
   "base_numbering": 1,
   "nav_menu": {},
   "number_sections": false,
   "sideBar": true,
   "skip_h1_title": false,
   "title_cell": "Table of Contents",
   "title_sidebar": "Contents",
   "toc_cell": false,
   "toc_position": {},
   "toc_section_display": true,
   "toc_window_display": false
  }
 },
 "nbformat": 4,
 "nbformat_minor": 2
}
